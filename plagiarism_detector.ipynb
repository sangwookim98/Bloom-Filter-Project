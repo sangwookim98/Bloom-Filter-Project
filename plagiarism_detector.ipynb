{
  "nbformat": 4,
  "nbformat_minor": 0,
  "metadata": {
    "colab": {
      "name": "plagiarism detector",
      "provenance": [],
      "collapsed_sections": []
    },
    "kernelspec": {
      "name": "python3",
      "display_name": "Python 3"
    },
    "language_info": {
      "name": "python"
    }
  },
  "cells": [
    {
      "cell_type": "code",
      "source": [
        "%matplotlib inline\n",
        "import matplotlib.pyplot as plt\n",
        "import numpy as np\n",
        "import scipy as sp\n",
        "import csv as csv\n",
        "import time as tm\n",
        "import string as sn\n"
      ],
      "metadata": {
        "id": "aePpanuILMJI"
      },
      "execution_count": null,
      "outputs": []
    },
    {
      "cell_type": "code",
      "execution_count": null,
      "metadata": {
        "id": "KVwpSVRJCxNZ",
        "colab": {
          "base_uri": "https://localhost:8080/"
        },
        "outputId": "cff8a09e-9a0e-48e3-929f-38667e0e1936"
      },
      "outputs": [
        {
          "output_type": "stream",
          "name": "stdout",
          "text": [
            "MinHash class loaded\n"
          ]
        }
      ],
      "source": [
        "class minHash:\n",
        "    \n",
        "  def __init__(self, filename, n, k, comWords):\n",
        "    self.filename = filename\n",
        "    self.n = n                                                      # Number of words per shingle \n",
        "    self.k = k                                                      # Number of hash values saved in signature \n",
        "    self.comWords = comWords\n",
        "    self.load()\n",
        "\n",
        "#load files\n",
        "  def load(self):\n",
        "    self.signature = self.k*[float('inf')]                          # Builds a list with k elements equal to infinity  \n",
        "    text_parse = str.maketrans('', '', sn.punctuation)              # remove all punctuation\n",
        "    \n",
        "    try:\n",
        "      f = open(self.filename,'r')\n",
        "      shingle = self.n*['']                                         # Initialize to list of n empty strings\n",
        "      pointer = 0                                                   # Points to location next word will go into the list shingle, it cycles modulo n\n",
        "      full_flag=0                                                   # Indicates whether at least n words have been read yet\n",
        "          \n",
        "      for line in f:\n",
        "        for word in line.split():\n",
        "          word = word.translate(text_parse) #Removes punctuation\n",
        "          word = word.lower()                                       # Makes lower case\n",
        "          if not (word in self.comWords): \n",
        "            shingle[pointer] = word\n",
        "          if pointer==self.n-1: \n",
        "            full_flag=1                                             # First shingle happens just after the nth word is added\n",
        "          pointer = (pointer+1)%self.n\n",
        "          \n",
        "          if full_flag==1: \n",
        "            self.__updateSig__(shingle, pointer)\n",
        "          \n",
        "          f.close()\n",
        "            \n",
        "    except:\n",
        "      print ('Error: Could Not Load File')\n",
        "\n",
        "\n",
        "  # Determines if the signature should be updated to include the hash value of the new shingle\n",
        "  def __updateSig__(self, shingle, pointer):\n",
        "    conShing = ''                                                   # Will become the string obtained by loading in words, beginning at pointer\n",
        "    for i in range(pointer, np.size(shingle)):\n",
        "      conShing = conShing + shingle[i]\n",
        "      \n",
        "    for i in range(pointer):\n",
        "      conShing = conShing + shingle[i]\n",
        "      h = int(hl.sha1(conShing.encode('utf8')).hexdigest(),base=16) # Hash function used in signature \n",
        "      \n",
        "      if h<np.max(self.signature) and not (h in self.signature):    # Add new hash value to signature if it is smaller than the largest already there.\n",
        "        i = np.argmax(self.signature)                               # Makes sure there are no duplicate values in signature\n",
        "        self.signature[i] = h\n",
        "\n",
        "print ('MinHash class loaded')"
      ]
    },
    {
      "cell_type": "code",
      "source": [
        "# loading files\n",
        "\n",
        "print(docA.txt)"
      ],
      "metadata": {
        "colab": {
          "base_uri": "https://localhost:8080/",
          "height": 200
        },
        "id": "ROmfngaGPUaY",
        "outputId": "36606fd4-7ce9-4b70-fb88-e6566e12d8dc"
      },
      "execution_count": null,
      "outputs": [
        {
          "output_type": "error",
          "ename": "NameError",
          "evalue": "ignored",
          "traceback": [
            "\u001b[0;31m---------------------------------------------------------------------------\u001b[0m",
            "\u001b[0;31mNameError\u001b[0m                                 Traceback (most recent call last)",
            "\u001b[0;32m<ipython-input-14-076596ae6f00>\u001b[0m in \u001b[0;36m<module>\u001b[0;34m()\u001b[0m\n\u001b[1;32m      1\u001b[0m \u001b[0;31m# loading files\u001b[0m\u001b[0;34m\u001b[0m\u001b[0;34m\u001b[0m\u001b[0;34m\u001b[0m\u001b[0m\n\u001b[1;32m      2\u001b[0m \u001b[0;34m\u001b[0m\u001b[0m\n\u001b[0;32m----> 3\u001b[0;31m \u001b[0mprint\u001b[0m\u001b[0;34m(\u001b[0m\u001b[0mdocA\u001b[0m\u001b[0;34m.\u001b[0m\u001b[0mtxt\u001b[0m\u001b[0;34m)\u001b[0m\u001b[0;34m\u001b[0m\u001b[0;34m\u001b[0m\u001b[0m\n\u001b[0m",
            "\u001b[0;31mNameError\u001b[0m: name 'docA' is not defined"
          ]
        }
      ]
    },
    {
      "cell_type": "code",
      "source": [
        "n = 2\n",
        "k = 10 \n",
        "common_words = [\"I\", \"to\", \"with\", \"the\", \"for\", \"of\", \"be\", \"who\", \"are\", \"is\", \"in\", \"on\", \"an\", \"a\", \"and\", \"as\"]\n",
        "\n",
        "# Creating signatures of 3 documents - need to use signature method from minHash class\n",
        "docA = minHash(\"docA.txt\", n, k, common_words)\n",
        "docB = minHash(\"docB.txt\", n, k, common_words)\n",
        "docC = minHash(\"docC.txt\", n, k, common_words)\n",
        "\n",
        "# Each of these signatures create an array of numbers\n",
        "print(\"Document A signature: \",docA.signature)\n",
        "print(\"Document B signature: \",docB.signature)\n",
        "print(\"Document C signature: \",docC.signature)"
      ],
      "metadata": {
        "id": "x8z2hLMrLL0c",
        "colab": {
          "base_uri": "https://localhost:8080/"
        },
        "outputId": "4a37b310-3c26-4d8e-9342-74d4ba5a9a98"
      },
      "execution_count": null,
      "outputs": [
        {
          "output_type": "stream",
          "name": "stdout",
          "text": [
            "Error: Could Not Load File\n",
            "Error: Could Not Load File\n",
            "Error: Could Not Load File\n",
            "Document A signature:  [inf, inf, inf, inf, inf, inf, inf, inf, inf, inf]\n",
            "Document B signature:  [inf, inf, inf, inf, inf, inf, inf, inf, inf, inf]\n",
            "Document C signature:  [inf, inf, inf, inf, inf, inf, inf, inf, inf, inf]\n"
          ]
        }
      ]
    },
    {
      "cell_type": "code",
      "source": [
        "# Jaccard's Signature set up + implementation\n",
        "def compare_sig (min_hash1, min_hash2):\n",
        "    sig_intersect = np.intersect1d(min_hash1.signature, min_hash2.signature)\n",
        "    size_intersect = len(sig_intersect)\n",
        "    Jaccard = float(size_intersect/k)\n",
        "    return Jaccard\n",
        "  \n",
        "jaccard_AB = compare_sig(docA, docB)\n",
        "print(\"Jaccard Measure of Documents A and B: \", jaccard_AB)\n",
        "\n",
        "jaccard_AC = compare_sig(docA, docC)\n",
        "print(\"Jaccard Measure of Documents A and C: \", jaccard_AC)\n",
        "\n",
        "jaccard_BC = compare_sig(docB, docC)\n",
        "print(\"Jaccard Measure of Documents B and C: \", jaccard_BC)\n"
      ],
      "metadata": {
        "id": "EldHrACUHCGb",
        "colab": {
          "base_uri": "https://localhost:8080/",
          "height": 234
        },
        "outputId": "3ae2c27d-1c0d-4a0b-d582-1c4b6498f53e"
      },
      "execution_count": null,
      "outputs": [
        {
          "output_type": "error",
          "ename": "NameError",
          "evalue": "ignored",
          "traceback": [
            "\u001b[0;31m---------------------------------------------------------------------------\u001b[0m",
            "\u001b[0;31mNameError\u001b[0m                                 Traceback (most recent call last)",
            "\u001b[0;32m<ipython-input-1-9d396fca703d>\u001b[0m in \u001b[0;36m<module>\u001b[0;34m()\u001b[0m\n\u001b[1;32m      6\u001b[0m     \u001b[0;32mreturn\u001b[0m \u001b[0mJaccard\u001b[0m\u001b[0;34m\u001b[0m\u001b[0;34m\u001b[0m\u001b[0m\n\u001b[1;32m      7\u001b[0m \u001b[0;34m\u001b[0m\u001b[0m\n\u001b[0;32m----> 8\u001b[0;31m \u001b[0mjaccard_AB\u001b[0m \u001b[0;34m=\u001b[0m \u001b[0mcompare_sig\u001b[0m\u001b[0;34m(\u001b[0m\u001b[0mdocA\u001b[0m\u001b[0;34m,\u001b[0m \u001b[0mdocB\u001b[0m\u001b[0;34m)\u001b[0m\u001b[0;34m\u001b[0m\u001b[0;34m\u001b[0m\u001b[0m\n\u001b[0m\u001b[1;32m      9\u001b[0m \u001b[0mprint\u001b[0m\u001b[0;34m(\u001b[0m\u001b[0;34m\"Jaccard Measure of Documents A and B: \"\u001b[0m\u001b[0;34m,\u001b[0m \u001b[0mjaccard_AB\u001b[0m\u001b[0;34m)\u001b[0m\u001b[0;34m\u001b[0m\u001b[0;34m\u001b[0m\u001b[0m\n\u001b[1;32m     10\u001b[0m \u001b[0;34m\u001b[0m\u001b[0m\n",
            "\u001b[0;31mNameError\u001b[0m: name 'docA' is not defined"
          ]
        }
      ]
    },
    {
      "cell_type": "code",
      "source": [
        ""
      ],
      "metadata": {
        "id": "hcABMzFX4_JD"
      },
      "execution_count": null,
      "outputs": []
    }
  ]
}